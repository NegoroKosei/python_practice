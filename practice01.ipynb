{
  "nbformat": 4,
  "nbformat_minor": 0,
  "metadata": {
    "colab": {
      "provenance": []
    },
    "kernelspec": {
      "name": "python3",
      "display_name": "Python 3"
    },
    "language_info": {
      "name": "python"
    }
  },
  "cells": [
    {
      "cell_type": "code",
      "execution_count": null,
      "metadata": {
        "colab": {
          "base_uri": "https://localhost:8080/"
        },
        "id": "RCnRS11TxUxw",
        "outputId": "257dcb8f-e6ce-4536-fe42-2991b68be395"
      },
      "outputs": [
        {
          "output_type": "stream",
          "name": "stdout",
          "text": [
            "こんにちは\n"
          ]
        },
        {
          "output_type": "execute_result",
          "data": {
            "text/plain": [
              "5"
            ]
          },
          "metadata": {},
          "execution_count": 5
        }
      ],
      "source": [
        "print ('こんにちは')\n",
        "1+4"
      ]
    },
    {
      "cell_type": "code",
      "source": [
        "type(10)\n",
        "type('a')"
      ],
      "metadata": {
        "colab": {
          "base_uri": "https://localhost:8080/"
        },
        "id": "1xMYnJlAzlO7",
        "outputId": "7f1260c0-2ed2-4ef1-ced8-f9fb830a65a3"
      },
      "execution_count": null,
      "outputs": [
        {
          "output_type": "execute_result",
          "data": {
            "text/plain": [
              "str"
            ]
          },
          "metadata": {},
          "execution_count": 12
        }
      ]
    },
    {
      "cell_type": "code",
      "source": [
        "b=(a:=2)*2\n",
        "# b=(a=2)*2 はエラーとなる\n",
        "print(b)"
      ],
      "metadata": {
        "colab": {
          "base_uri": "https://localhost:8080/"
        },
        "id": "cEk1Hisx0vLw",
        "outputId": "c1087e7f-ea56-454e-f857-75b9b6169f81"
      },
      "execution_count": null,
      "outputs": [
        {
          "output_type": "stream",
          "name": "stdout",
          "text": [
            "4\n"
          ]
        }
      ]
    },
    {
      "cell_type": "code",
      "source": [
        "a //= b\n",
        "# 商を求める演算子//と代入演算子=の組合せ\n",
        "print(a)\n",
        "a += 1\n",
        "print(a)\n",
        "# a++は使えない"
      ],
      "metadata": {
        "colab": {
          "base_uri": "https://localhost:8080/"
        },
        "id": "BnD3gPkT1qFv",
        "outputId": "14f4f6ef-127f-4159-81b2-1e9a67e7b9d8"
      },
      "execution_count": null,
      "outputs": [
        {
          "output_type": "stream",
          "name": "stdout",
          "text": [
            "0\n",
            "1\n"
          ]
        }
      ]
    },
    {
      "cell_type": "code",
      "source": [
        "print(type(a := 4/2))\n",
        "# 除算を行うと、割り切れる場合でもfloat型になる\n",
        "print(type(a := a + b))\n",
        "# float型とint型の計算はfloat型にキャストされる\n",
        "print(a := int(a))\n",
        "print(type(a))\n",
        "# int()でint型にキャストできる(intは切り捨て)"
      ],
      "metadata": {
        "colab": {
          "base_uri": "https://localhost:8080/"
        },
        "id": "F_Y-IU5B2Huf",
        "outputId": "ca923468-9e5f-4617-db66-6200a079926d"
      },
      "execution_count": null,
      "outputs": [
        {
          "output_type": "stream",
          "name": "stdout",
          "text": [
            "<class 'float'>\n",
            "<class 'float'>\n",
            "6\n",
            "<class 'int'>\n"
          ]
        }
      ]
    },
    {
      "cell_type": "code",
      "source": [
        "message = '07/27'\n",
        "print('今日は'+message+'です。')\n",
        "# 文字列は+で結合できる\n",
        "print(messagee := 'Hello.'*5)\n",
        "# *2を用いて繰り返し処理もできる\n",
        "print(str(a)+message)"
      ],
      "metadata": {
        "colab": {
          "base_uri": "https://localhost:8080/"
        },
        "id": "3fNdpEfj3Leg",
        "outputId": "68e41ad7-dd19-4238-e123-7a5c3db7bd37"
      },
      "execution_count": null,
      "outputs": [
        {
          "output_type": "stream",
          "name": "stdout",
          "text": [
            "今日は07/27です。\n",
            "Hello.Hello.Hello.Hello.Hello.\n"
          ]
        }
      ]
    },
    {
      "cell_type": "code",
      "source": [
        "print(f'今日は{message}',f'明日は{a}')\n",
        "# 文字列の前にfを入れることでフォーマット文字列(後から変数を埋め込む文字列)にできる"
      ],
      "metadata": {
        "colab": {
          "base_uri": "https://localhost:8080/"
        },
        "id": "yzYXg0_H5VAh",
        "outputId": "9d8763af-85af-414b-f62c-b2dd48cb08ba"
      },
      "execution_count": null,
      "outputs": [
        {
          "output_type": "stream",
          "name": "stdout",
          "text": [
            "今日は07/27 明日は6\n"
          ]
        }
      ]
    },
    {
      "cell_type": "code",
      "source": [
        "scores = [100,200,400,300,0.5]\n",
        "print(type(scores))\n",
        "print(scores)\n",
        "# listには型の違う様々な変数が入る\n",
        "print(type(scores[0]))\n",
        "print(type(scores[4]))\n",
        "# 要素番号は0からはじまる"
      ],
      "metadata": {
        "colab": {
          "base_uri": "https://localhost:8080/"
        },
        "id": "qVwx86lT6UXJ",
        "outputId": "e26943ee-5d29-4ab5-a8cb-215b8ce8ca05"
      },
      "execution_count": null,
      "outputs": [
        {
          "output_type": "stream",
          "name": "stdout",
          "text": [
            "<class 'list'>\n",
            "[100, 200, 400, 300, 0.5]\n",
            "<class 'int'>\n",
            "<class 'float'>\n"
          ]
        }
      ]
    },
    {
      "cell_type": "code",
      "source": [
        "# mathモジュールのインポート\n",
        "import math\n",
        "print(math.log10(10e-3))\n",
        "print(a := math.tan(math.radians(45)))\n",
        "print(math.atan(a)/math.pi*180)"
      ],
      "metadata": {
        "colab": {
          "base_uri": "https://localhost:8080/"
        },
        "id": "Wvu4Mclc7rTf",
        "outputId": "1b60b25f-6063-4b0e-cb85-64ffdadafb37"
      },
      "execution_count": null,
      "outputs": [
        {
          "output_type": "stream",
          "name": "stdout",
          "text": [
            "-2.0\n",
            "0.9999999999999999\n",
            "45.0\n"
          ]
        }
      ]
    },
    {
      "cell_type": "code",
      "source": [
        "import random\n",
        "print(random.random())\n",
        "# 0~1(!=1)\n",
        "print(random.randrange(2))\n",
        "# 0~1\n",
        "print(random.randrange(1,13,5))\n",
        "# 1,6,11\n",
        "# randrangeは引数を1～3個取れ、range(start, stop, step) の要素(start~stop-1)からランダムに選ばれた要素を返します。\n",
        "print(random.randint(3,7))\n",
        "# 3~7\n",
        "print(random.choice(scores))\n",
        "# 1 choice"
      ],
      "metadata": {
        "colab": {
          "base_uri": "https://localhost:8080/"
        },
        "id": "lU6xgMBN9ESr",
        "outputId": "6270fb9d-6113-4a0c-c6ec-91cf688f465d"
      },
      "execution_count": null,
      "outputs": [
        {
          "output_type": "stream",
          "name": "stdout",
          "text": [
            "0.7437919443297442\n",
            "0\n",
            "6\n",
            "6\n",
            "300\n"
          ]
        }
      ]
    },
    {
      "cell_type": "code",
      "source": [
        "import random as r\n",
        "# モジュール名の変更\n",
        "from random import randrange,random\n",
        "# 特定の関数のインポート、関数前のモジュール指定が不要になる\n",
        "random()\n",
        "randrange(3)\n",
        "#randint(3,5) # err\n",
        "from random import *\n",
        "# すべての関数をインポート\n",
        "randint(3,5)"
      ],
      "metadata": {
        "colab": {
          "base_uri": "https://localhost:8080/"
        },
        "id": "m6b20mXM_H5w",
        "outputId": "d6d54412-fa57-4d20-a80c-ce0759182e42"
      },
      "execution_count": null,
      "outputs": [
        {
          "output_type": "execute_result",
          "data": {
            "text/plain": [
              "3"
            ]
          },
          "metadata": {},
          "execution_count": 102
        }
      ]
    },
    {
      "cell_type": "markdown",
      "source": [
        "ここからテキスト3章"
      ],
      "metadata": {
        "id": "0hRU9SynDwLQ"
      }
    },
    {
      "cell_type": "code",
      "source": [
        "name = input()\n",
        "print(name+'です')"
      ],
      "metadata": {
        "colab": {
          "base_uri": "https://localhost:8080/"
        },
        "id": "VrT-J877Cop-",
        "outputId": "3fb5896b-4776-4cdd-a5d8-f5722e246871"
      },
      "execution_count": null,
      "outputs": [
        {
          "output_type": "stream",
          "name": "stdout",
          "text": [
            "aaaaaaわわわ\n",
            "aaaaaaわわわです\n"
          ]
        }
      ]
    },
    {
      "cell_type": "code",
      "source": [
        "print('長方形の面積を求めます')\n",
        "height = float(input('height : '))\n",
        "width = float(input('width : '))\n",
        "print(f'面積は{height*width}です')"
      ],
      "metadata": {
        "colab": {
          "base_uri": "https://localhost:8080/"
        },
        "id": "kdi9gvlHC528",
        "outputId": "8a3a50c6-7b3b-4a12-ef30-6609f143448c"
      },
      "execution_count": null,
      "outputs": [
        {
          "output_type": "stream",
          "name": "stdout",
          "text": [
            "長方形の面積を求めます\n",
            "height : 4\n",
            "width : 6\n",
            "面積は24.0です\n"
          ]
        }
      ]
    },
    {
      "cell_type": "code",
      "source": [
        "age = int(input('年齢を入力してください'))\n",
        "print(f'あなたは{age}歳です')\n",
        "if age <18 :\n",
        "    print('未成年')\n",
        "    print('選挙権なし')\n",
        "    print('投票権なし')\n",
        "elif age == 18 :\n",
        "    print('18歳')\n",
        "    print('おめでとう！投票権！')\n",
        "else :\n",
        "    print('成人')\n",
        "    print('選挙権あり')\n",
        "# ifのあとはthenでなく\":\"\n",
        "# else ifでなくelif\n",
        "# インデントでブロックを決めている"
      ],
      "metadata": {
        "colab": {
          "base_uri": "https://localhost:8080/"
        },
        "id": "EAC1qRVzD11n",
        "outputId": "0d87d351-c6ff-455e-eaa6-12463e253300"
      },
      "execution_count": null,
      "outputs": [
        {
          "output_type": "stream",
          "name": "stdout",
          "text": [
            "年齢を入力してください30\n",
            "あなたは30歳です\n",
            "成人\n",
            "選挙権あり\n"
          ]
        }
      ]
    },
    {
      "cell_type": "code",
      "source": [
        "c = a if (a > b)  else b\n",
        "print(type(c))\n",
        "# 3項演算子"
      ],
      "metadata": {
        "colab": {
          "base_uri": "https://localhost:8080/"
        },
        "id": "_zLTaVVBGOCd",
        "outputId": "90a3bf05-7ced-499b-ccf8-ce77bc8ab2b9"
      },
      "execution_count": null,
      "outputs": [
        {
          "output_type": "stream",
          "name": "stdout",
          "text": [
            "<class 'int'>\n"
          ]
        }
      ]
    },
    {
      "cell_type": "code",
      "source": [
        "d = True\n",
        "print(type(d))\n",
        "# bool型の生成\n",
        "a = 3\n",
        "if not a:\n",
        "    print('aはTrue')\n",
        "else:\n",
        "    print('aはFalse')\n",
        "# bool型でなくても、0や空の値の時falseとなる\n",
        "if a:\n",
        "    print('aはTrue')\n",
        "else:\n",
        "    print('aはFalse')\n",
        "if 7 > a <= 3:\n",
        "    print('aは7より小さいかつ3以下')\n",
        "# 比較演算子は結合できる"
      ],
      "metadata": {
        "colab": {
          "base_uri": "https://localhost:8080/"
        },
        "id": "xOvppLDCYWK8",
        "outputId": "7072128e-dc58-41bf-a4c4-7feb91933598"
      },
      "execution_count": null,
      "outputs": [
        {
          "output_type": "stream",
          "name": "stdout",
          "text": [
            "<class 'bool'>\n",
            "aはFalse\n",
            "aはTrue\n",
            "aは7より小さいかつ3以下\n"
          ]
        }
      ]
    },
    {
      "cell_type": "code",
      "source": [
        "i = 0\n",
        "while i < 5:\n",
        "    print(i,end = ' ')\n",
        "    i += 1\n",
        "print('\\n')\n",
        "# while文、ループの最初に終了判定がある\n",
        "for i in scores:\n",
        "    print(i,end = ' ')\n",
        "print('\\n')\n",
        "# for文、反復化可能オブジェクトの先頭の要素から変数に代入されていく\n",
        "for i in range(2,11,3):\n",
        "    print(i,end = ' ')\n",
        "# range(start, stop, step)、stop-1以下の範囲"
      ],
      "metadata": {
        "colab": {
          "base_uri": "https://localhost:8080/"
        },
        "id": "Gx4FzI6TbdhO",
        "outputId": "06c05154-e6df-4f06-8d03-e97c982fc94f"
      },
      "execution_count": null,
      "outputs": [
        {
          "output_type": "stream",
          "name": "stdout",
          "text": [
            "0 1 2 3 4 \n",
            "\n",
            "100 200 400 300 0.5 \n",
            "\n",
            "2 5 8 "
          ]
        }
      ]
    },
    {
      "cell_type": "code",
      "source": [
        "for i in range(4,20):\n",
        "    if i % 3 == 0:\n",
        "        continue\n",
        "        # continueはループの最初に戻る\n",
        "    print(i,end = ' ')\n",
        "    if i > 15:\n",
        "        break\n",
        "        # breakはループから抜ける\n",
        "    print(i,end = ' ')"
      ],
      "metadata": {
        "colab": {
          "base_uri": "https://localhost:8080/"
        },
        "id": "9qzrJ7WAeUB5",
        "outputId": "755c7b45-4a92-40d9-ea27-dd013bd7f43e"
      },
      "execution_count": null,
      "outputs": [
        {
          "output_type": "stream",
          "name": "stdout",
          "text": [
            "4 4 5 5 7 7 8 8 10 10 11 11 13 13 14 14 16 "
          ]
        }
      ]
    },
    {
      "cell_type": "code",
      "source": [
        "# 練習問題3.2\n",
        "a = int(input('整数を入力\\n'))\n",
        "ans = \"3で割り切れます\" if (a % 3 == 0)  else \"3で割り切れません\"\n",
        "print(ans)"
      ],
      "metadata": {
        "colab": {
          "base_uri": "https://localhost:8080/"
        },
        "id": "wm09PUF9fq94",
        "outputId": "2e081c08-7ba7-4ed4-ac32-0b1f51b61b03"
      },
      "execution_count": null,
      "outputs": [
        {
          "output_type": "stream",
          "name": "stdout",
          "text": [
            "整数を入力\n",
            "6\n",
            "3で割り切れます\n"
          ]
        }
      ]
    },
    {
      "cell_type": "code",
      "source": [
        "from typing import Counter\n",
        "# 練習問題3.3\n",
        "i = 10;count = 0\n",
        "while i <= 20:\n",
        "    count += i\n",
        "    i += 1\n",
        "print(count)\n",
        "count = 0\n",
        "for i in range(10,21):\n",
        "    if i ==15:\n",
        "        continue\n",
        "    count += i\n",
        "print(count)"
      ],
      "metadata": {
        "colab": {
          "base_uri": "https://localhost:8080/"
        },
        "id": "gvDIPOethf9B",
        "outputId": "2437f8f4-6b17-4eb3-cb0a-4739c4a2a43b"
      },
      "execution_count": null,
      "outputs": [
        {
          "output_type": "stream",
          "name": "stdout",
          "text": [
            "165\n",
            "150\n"
          ]
        }
      ]
    },
    {
      "cell_type": "markdown",
      "source": [
        "テキスト第４章"
      ],
      "metadata": {
        "id": "zB3YU6XlpRgD"
      }
    },
    {
      "cell_type": "code",
      "source": [
        "# インスタンスはiをつけて管理されるデータ\n",
        "print(id(a))\n",
        "print(id('a'))\n",
        "a = 'a'\n",
        "print(id(a))\n",
        "a = 'b'\n",
        "print(id(a))\n",
        "a = 'a'\n",
        "print(id(a))\n",
        "# インスタンス(左辺)が同じなら代入してもidは変わらない\n",
        "# pythonではアドレスとidは異なる"
      ],
      "metadata": {
        "colab": {
          "base_uri": "https://localhost:8080/"
        },
        "id": "Zus3FqJfiifO",
        "outputId": "50a69307-f113-4c67-b4fb-bbe3c15d7cde"
      },
      "execution_count": null,
      "outputs": [
        {
          "output_type": "stream",
          "name": "stdout",
          "text": [
            "137945952714672\n",
            "137945952714672\n",
            "137945952714672\n",
            "137945952589040\n",
            "137945952714672\n",
            "137944633477376\n",
            "137944633485952\n"
          ]
        }
      ]
    },
    {
      "cell_type": "code",
      "source": [
        "a = [1,2,3]\n",
        "b = [1,2,3]\n",
        "print(a is b)\n",
        "# インスタンスは異なる\n",
        "b = a\n",
        "print(a is b)\n",
        "# 同じインスタンスを参照している\n",
        "a[2] = 4\n",
        "print(a)\n",
        "print(b)\n",
        "# 参照先が同じなので一方の値を変えるともう一方も値が変わる\n",
        "a = 'a'\n",
        "b = a\n",
        "a = 'b'\n",
        "print(a is b)\n",
        "print(a)\n",
        "print(b)\n",
        "# インスタンスの代入は参照先の変更であるため、片方のみ値が変わるが、もう一方は変わらない\n",
        "print(id('a'))\n",
        "# やっぱり同じ値であればidは変わらない"
      ],
      "metadata": {
        "colab": {
          "base_uri": "https://localhost:8080/"
        },
        "id": "nWAh_pvKlQB4",
        "outputId": "a5ffb921-d1b0-4a78-a8ae-47217ee6b5f8"
      },
      "execution_count": null,
      "outputs": [
        {
          "output_type": "stream",
          "name": "stdout",
          "text": [
            "False\n",
            "True\n",
            "[1, 2, 4]\n",
            "[1, 2, 4]\n",
            "False\n",
            "b\n",
            "a\n",
            "137945952714672\n"
          ]
        }
      ]
    },
    {
      "cell_type": "code",
      "source": [
        "# オブジェクト指向\n",
        "# それぞれのオブジェクト(インスタンス)には機能(関数、メソッド)が備わっている\n",
        "print((str := 'Hellon Python!').count('on'))\n",
        "# 'Hellon Python!'はstrクラスのインスタンス"
      ],
      "metadata": {
        "colab": {
          "base_uri": "https://localhost:8080/"
        },
        "id": "6wIvZQ2doMn-",
        "outputId": "8987c7c1-7c2f-4d4a-a28f-cc5b6c7cd1e5"
      },
      "execution_count": null,
      "outputs": [
        {
          "output_type": "stream",
          "name": "stdout",
          "text": [
            "2\n"
          ]
        }
      ]
    },
    {
      "cell_type": "code",
      "source": [
        "# 文字列操作\n",
        "str = str.lower()\n",
        "print(str)\n",
        "str = str.upper()\n",
        "print(str)\n",
        "print(str.find('ll'))\n",
        "# 大文字と小文字の区別あり\n",
        "print(str.find('LL'))\n",
        "# 前から数えてn-1番目が返される"
      ],
      "metadata": {
        "colab": {
          "base_uri": "https://localhost:8080/"
        },
        "id": "fcBJyW-kpV0a",
        "outputId": "38d50aea-dbea-4fa9-afaa-a0260e0d4683"
      },
      "execution_count": null,
      "outputs": [
        {
          "output_type": "stream",
          "name": "stdout",
          "text": [
            "hellon python!\n",
            "HELLON PYTHON!\n",
            "-1\n",
            "2\n"
          ]
        }
      ]
    },
    {
      "cell_type": "code",
      "source": [
        "a =2000\n",
        "b =3.141592\n",
        "c =3.45e-8\n",
        "print('今日は{0:}で{2:}で{1:.3f}です'.format(a,b,c,10))\n",
        "# formatメソッドを用いることで、整形しつつフォーマット文字列ができる"
      ],
      "metadata": {
        "colab": {
          "base_uri": "https://localhost:8080/"
        },
        "id": "W--f8r9-wfIb",
        "outputId": "9168ab55-6f49-456f-bd73-bf6a75833419"
      },
      "execution_count": null,
      "outputs": [
        {
          "output_type": "stream",
          "name": "stdout",
          "text": [
            "今日は2000で3.45e-08で3.142です\n"
          ]
        }
      ]
    },
    {
      "cell_type": "code",
      "source": [
        "# list操作\n",
        "scores = [20,40,50,30,10]\n",
        "# 追加\n",
        "print(id(scores))\n",
        "scores.append(100)\n",
        "print(scores)\n",
        "# pop\n",
        "scores.pop()\n",
        "print(scores)\n",
        "# 反転\n",
        "scores.reverse()\n",
        "print(scores)\n",
        "# ソート\n",
        "scores.append(35.5)\n",
        "scores = sorted(scores)\n",
        "print(scores)\n",
        "# 検索(番号は0から)\n",
        "if 10 in scores:\n",
        "    print(id(scores.index(50)))\n",
        "# 結合\n",
        "scores2 = [i for i in range(0,40,3)]\n",
        "print(id(scores))\n",
        "print(id(scores2))\n",
        "scores = scores + scores2\n",
        "print(id(scores))\n",
        "# 結合をするとidは全く新しくなる(新しいインスタンスである)\n",
        "print(scores)"
      ],
      "metadata": {
        "colab": {
          "base_uri": "https://localhost:8080/"
        },
        "id": "rnU7DDBhyoSH",
        "outputId": "9da20de4-797d-4445-b735-6146cba871dd"
      },
      "execution_count": 23,
      "outputs": [
        {
          "output_type": "stream",
          "name": "stdout",
          "text": [
            "133169810713920\n",
            "[20, 40, 50, 30, 10, 100]\n",
            "[20, 40, 50, 30, 10]\n",
            "133169810713920\n",
            "[10, 30, 50, 40, 20]\n",
            "[10, 20, 30, 35.5, 40, 50]\n",
            "133171103302000\n",
            "133169810715136\n",
            "133170691174336\n",
            "133169810713408\n",
            "[10, 20, 30, 35.5, 40, 50, 0, 3, 6, 9, 12, 15, 18, 21, 24, 27, 30, 33, 36, 39]\n"
          ]
        }
      ]
    },
    {
      "cell_type": "code",
      "source": [
        "# 内包処理\n",
        "a = [2 ** i for i in range(1,11) if i % 2 == 0]\n",
        "print(a)"
      ],
      "metadata": {
        "colab": {
          "base_uri": "https://localhost:8080/"
        },
        "id": "jq5MS13V3GhP",
        "outputId": "1125d82d-bb94-4e8b-99b2-361301eca75b"
      },
      "execution_count": 34,
      "outputs": [
        {
          "output_type": "stream",
          "name": "stdout",
          "text": [
            "[4, 16, 64, 256, 1024]\n"
          ]
        }
      ]
    },
    {
      "cell_type": "code",
      "source": [
        "# タプル = 変更できないリスト\n",
        "Day = (\"Mon\",\"Tue\",\"Wed\", 3)\n",
        "type(Day)\n",
        "print(Day[2:4])\n",
        "# a:b a以上b未満\n",
        "Day = Day + (7, \"Sun\")\n",
        "print(Day)"
      ],
      "metadata": {
        "colab": {
          "base_uri": "https://localhost:8080/"
        },
        "id": "EExEzNwDC476",
        "outputId": "393493e9-0274-4dd6-9e09-f99c6b0a7e0e"
      },
      "execution_count": 1,
      "outputs": [
        {
          "output_type": "stream",
          "name": "stdout",
          "text": [
            "('Wed', 3)\n",
            "('Mon', 'Tue', 'Wed', 3, 7, 'Sun')\n"
          ]
        }
      ]
    },
    {
      "cell_type": "code",
      "source": [
        "# 辞書\n",
        "info = {\"ice\":\"アイス\",\"cool\":\"かっこいい\",\"cold\":\"冷たい\"}\n",
        "type(info)\n",
        "# getの\"key\"検索\n",
        "print(info.get(\"冷たい\"))\n",
        "print(info.get(\"cool\"))\n",
        "\n",
        "# keyを取得しfor文を回す\n",
        "for key in info.keys():\n",
        "    print(key,info.get(key))\n",
        "# itemsでkey,valueのタプルを取得\n",
        "for tap in info.items():\n",
        "    print(tap)\n",
        "for s,v in info.items():\n",
        "    print(s,v)\n",
        "# 辞書の追加\n",
        "info[10] = '10だよ'\n",
        "print(info)\n",
        "# sort(型が違うとソートできない)\n",
        "del info[10]\n",
        "info['10'] = 1000\n",
        "print(sorted(info.items()))\n",
        "# 値を基準にsort\n",
        "info['10'] = str(info['10'])\n",
        "print(sorted(info.items(), key = lambda x:x[1]))"
      ],
      "metadata": {
        "colab": {
          "base_uri": "https://localhost:8080/"
        },
        "id": "WgH14nVeFLVo",
        "outputId": "8903573e-bc82-47f0-99c2-bed966da29e1"
      },
      "execution_count": 59,
      "outputs": [
        {
          "output_type": "stream",
          "name": "stdout",
          "text": [
            "None\n",
            "かっこいい\n",
            "ice アイス\n",
            "cool かっこいい\n",
            "cold 冷たい\n",
            "('ice', 'アイス')\n",
            "('cool', 'かっこいい')\n",
            "('cold', '冷たい')\n",
            "ice アイス\n",
            "cool かっこいい\n",
            "cold 冷たい\n",
            "{'ice': 'アイス', 'cool': 'かっこいい', 'cold': '冷たい', 10: '10だよ'}\n",
            "[('10', 1000), ('cold', '冷たい'), ('cool', 'かっこいい'), ('ice', 'アイス')]\n",
            "[('10', '1000'), ('cool', 'かっこいい'), ('ice', 'アイス'), ('cold', '冷たい')]\n"
          ]
        }
      ]
    },
    {
      "cell_type": "code",
      "source": [
        "# set(集合)\n",
        "chars = {'A', 'B', 'C', 'D', 'D', 'E'}\n",
        "# 重複した値を持てない\n",
        "print(chars)\n",
        "# listから作成\n",
        "data = ['A','G', 'D', 'F', 'D']\n",
        "chars2 = set(data)\n",
        "print(chars2)\n",
        "print(type(chars2))\n",
        "\n",
        "# 和集合\n",
        "print(chars|chars2)\n",
        "# 積集合\n",
        "print(chars&chars2)\n",
        "# 差集合\n",
        "print(chars-chars2)\n",
        "# 排他的論理和\n",
        "print(chars^chars2)"
      ],
      "metadata": {
        "colab": {
          "base_uri": "https://localhost:8080/"
        },
        "id": "9Ao1xEjBH-K1",
        "outputId": "a8239088-5770-4a7e-d10a-fff39b30cae6"
      },
      "execution_count": 61,
      "outputs": [
        {
          "output_type": "stream",
          "name": "stdout",
          "text": [
            "{'C', 'A', 'B', 'E', 'D'}\n",
            "{'F', 'G', 'A', 'D'}\n",
            "<class 'set'>\n",
            "{'F', 'C', 'B', 'E', 'D', 'G', 'A'}\n",
            "{'D', 'A'}\n",
            "{'E', 'C', 'B'}\n",
            "{'F', 'C', 'B', 'E', 'G'}\n"
          ]
        }
      ]
    },
    {
      "cell_type": "code",
      "source": [
        "# イミュータブル　→　インスタンスを取り替えないと値を変更できない(数値、文字列、タプル)\n",
        "# イテラブル　→　反復可能オブジェクト、for文で１つの要素にアクセスできる(数値以外、辞書の場合はkey)\n",
        "# シーケンス　→　順序を持つ、[1:4]で要素をスライスできる(文字列、リスト、タプル)"
      ],
      "metadata": {
        "id": "RlHuRedXRcSj"
      },
      "execution_count": null,
      "outputs": []
    }
  ]
}