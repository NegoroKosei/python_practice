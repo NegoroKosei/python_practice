{
 "cells": [
  {
   "cell_type": "code",
   "execution_count": null,
   "metadata": {},
   "outputs": [],
   "source": [
    "# 写真(配列型)にバウンディングボックスを追加する関数\n",
    "from typing import List, Tuple\n",
    "\n",
    "import matplotlib.patches as patches # 四角形を描画するためのモジュール\n",
    "import numpy as np\n",
    "from PIL import Image\n",
    "\n",
    "# def calc(a:int) -> int:\n",
    "# のように引数の型と戻り値の型を指定することができる\n",
    "def add_bboxes_to_image(ax, image: np.ndarray,\n",
    "                        bboxes: List[Tuple[int, int, int, int]],\n",
    "                        labels: List[str] = None,\n",
    "                        label_size: int = 10,\n",
    "                        line_width: int = 2,\n",
    "                        border_color=(0, 1, 0, 1)) -> None:\n",
    "    \"\"\"\n",
    "    Add bbox to ax\n",
    "\n",
    "    :param image: dtype=np.uint8\n",
    "    :param bbox: [(left, top, right, bottom)]\n",
    "    :param label: List[str] or None\n",
    "    :return: ax\n",
    "    \"\"\"\n",
    "    # Display the image\n",
    "    ax.imshow(image)\n",
    "    # ラベルがない場合はNoneを入れる\n",
    "    if labels is None:\n",
    "        labels = [None] * len(bboxes)\n",
    "\n",
    "    for bbox, label in zip(bboxes, labels):\n",
    "        top, left, bottom, right = bbox\n",
    "        # Rectangleの作成\n",
    "        rect = patches.Rectangle((left, top), right - left, bottom - top,\n",
    "                                 linewidth=line_width,\n",
    "                                 edgecolor=border_color,\n",
    "                                 facecolor='none')\n",
    "        # Rectangleの追加\n",
    "        ax.add_patch(rect)\n",
    "\n",
    "        # label\n",
    "        if label:\n",
    "            # ラベルのスタイルを辞書型で指定\n",
    "            bbox_props = dict(boxstyle=\"square,pad=0\",\n",
    "                              linewidth=line_width, facecolor=border_color,\n",
    "                              edgecolor=border_color)\n",
    "            # ラベルの追加,ラベルの左下(ha=\"left\",va=\"bottom\"により)をBoxの左上に合わせる\n",
    "            ax.text(left, top, label,\n",
    "                    ha=\"left\", va=\"bottom\", rotation=0,\n",
    "                    size=label_size, bbox=bbox_props)\n",
    "    return ax\n"
   ]
  }
 ],
 "metadata": {
  "kernelspec": {
   "display_name": "base",
   "language": "python",
   "name": "python3"
  },
  "language_info": {
   "codemirror_mode": {
    "name": "ipython",
    "version": 3
   },
   "file_extension": ".py",
   "mimetype": "text/x-python",
   "name": "python",
   "nbconvert_exporter": "python",
   "pygments_lexer": "ipython3",
   "version": "3.12.4"
  }
 },
 "nbformat": 4,
 "nbformat_minor": 2
}
